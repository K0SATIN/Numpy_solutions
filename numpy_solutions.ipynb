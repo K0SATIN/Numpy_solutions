{
  "nbformat": 4,
  "nbformat_minor": 0,
  "metadata": {
    "colab": {
      "provenance": [],
      "authorship_tag": "ABX9TyN23wCLWxD/+sMX/wgYQi0l",
      "include_colab_link": true
    },
    "kernelspec": {
      "name": "python3",
      "display_name": "Python 3"
    },
    "language_info": {
      "name": "python"
    }
  },
  "cells": [
    {
      "cell_type": "markdown",
      "metadata": {
        "id": "view-in-github",
        "colab_type": "text"
      },
      "source": [
        "<a href=\"https://colab.research.google.com/github/K0SATIN/Numpy_solutions/blob/FromColab/numpy_solutions.ipynb\" target=\"_parent\"><img src=\"https://colab.research.google.com/assets/colab-badge.svg\" alt=\"Open In Colab\"/></a>"
      ]
    },
    {
      "cell_type": "code",
      "execution_count": null,
      "metadata": {
        "id": "yWxcYXvKhPfV"
      },
      "outputs": [],
      "source": [
        "print('Сколько уже можно тянуть, давай начнём!')"
      ]
    },
    {
      "cell_type": "code",
      "source": [
        "import numpy as np\n",
        "def array_output(a):\n",
        "  print()\n",
        "  print(a)"
      ],
      "metadata": {
        "id": "kjHazE8e3stB"
      },
      "execution_count": null,
      "outputs": []
    },
    {
      "cell_type": "code",
      "source": [
        "\n",
        "a = np.zeros(10)\n",
        "b = np.ones(10)\n",
        "c = np.full(10, 5)\n",
        "d = np.arange(10, 50)\n",
        "e = np.arange(10, 50, 2)\n",
        "f = np.arange(0, 9)\n",
        "f.resize(3,3)\n",
        "g = np.random.random()\n",
        "h = np.random.normal(0, 1, 15)\n",
        "i = np.arange(0.01, 1+0.01, 0.01)\n",
        "i.resize(10,10)\n",
        "\n",
        "part_1 = np.array([a,b,c,d,e,f,g,h,i])\n",
        "for i in part_1:\n",
        "  array_output(i)\n"
      ],
      "metadata": {
        "id": "KA_Kwf-Ohr_t",
        "colab": {
          "base_uri": "https://localhost:8080/"
        },
        "outputId": "602e4ca1-ed93-46a0-da47-73f3e1638b13"
      },
      "execution_count": null,
      "outputs": [
        {
          "output_type": "stream",
          "name": "stdout",
          "text": [
            "\n",
            "[0. 0. 0. 0. 0. 0. 0. 0. 0. 0.]\n",
            "\n",
            "[1. 1. 1. 1. 1. 1. 1. 1. 1. 1.]\n",
            "\n",
            "[5 5 5 5 5 5 5 5 5 5]\n",
            "\n",
            "[10 11 12 13 14 15 16 17 18 19 20 21 22 23 24 25 26 27 28 29 30 31 32 33\n",
            " 34 35 36 37 38 39 40 41 42 43 44 45 46 47 48 49]\n",
            "\n",
            "[10 12 14 16 18 20 22 24 26 28 30 32 34 36 38 40 42 44 46 48]\n",
            "\n",
            "[[0 1 2]\n",
            " [3 4 5]\n",
            " [6 7 8]]\n",
            "\n",
            "0.23837687504231253\n",
            "\n",
            "[ 1.00996378  0.17350593 -0.94677107 -1.28124821  1.49187844 -0.99326014\n",
            "  0.41565338  0.88932557  0.29109731 -0.87057968  0.16104002 -0.57692084\n",
            " -0.71210242 -2.05219564  0.30858419]\n",
            "\n",
            "[[0.01 0.02 0.03 0.04 0.05 0.06 0.07 0.08 0.09 0.1 ]\n",
            " [0.11 0.12 0.13 0.14 0.15 0.16 0.17 0.18 0.19 0.2 ]\n",
            " [0.21 0.22 0.23 0.24 0.25 0.26 0.27 0.28 0.29 0.3 ]\n",
            " [0.31 0.32 0.33 0.34 0.35 0.36 0.37 0.38 0.39 0.4 ]\n",
            " [0.41 0.42 0.43 0.44 0.45 0.46 0.47 0.48 0.49 0.5 ]\n",
            " [0.51 0.52 0.53 0.54 0.55 0.56 0.57 0.58 0.59 0.6 ]\n",
            " [0.61 0.62 0.63 0.64 0.65 0.66 0.67 0.68 0.69 0.7 ]\n",
            " [0.71 0.72 0.73 0.74 0.75 0.76 0.77 0.78 0.79 0.8 ]\n",
            " [0.81 0.82 0.83 0.84 0.85 0.86 0.87 0.88 0.89 0.9 ]\n",
            " [0.91 0.92 0.93 0.94 0.95 0.96 0.97 0.98 0.99 1.  ]]\n"
          ]
        },
        {
          "output_type": "stream",
          "name": "stderr",
          "text": [
            "<ipython-input-7-fea4c61d1c1e>:13: VisibleDeprecationWarning: Creating an ndarray from ragged nested sequences (which is a list-or-tuple of lists-or-tuples-or ndarrays with different lengths or shapes) is deprecated. If you meant to do this, you must specify 'dtype=object' when creating the ndarray.\n",
            "  part_1 = np.array([a,b,c,d,e,f,g,h,i])\n"
          ]
        }
      ]
    },
    {
      "cell_type": "code",
      "source": [
        "mat = np.arange(1,26).reshape(5,5)\n",
        "array_output(mat)\n",
        "array_output(mat[2:, 1:])\n",
        "array_output(mat[3, 4])\n",
        "array_output(mat[:3, 1])\n",
        "array_output(mat[4:, :])\n",
        "array_output(mat[3:, :])\n",
        "array_output(mat.sum())\n",
        "array_output(np.std(mat))\n",
        "array_output(mat.sum(axis = 0))"
      ],
      "metadata": {
        "colab": {
          "base_uri": "https://localhost:8080/"
        },
        "id": "JUBt5OjQqiFF",
        "outputId": "95e3e6da-0190-4aa5-ecdf-c624e1db95cb"
      },
      "execution_count": null,
      "outputs": [
        {
          "output_type": "stream",
          "name": "stdout",
          "text": [
            "\n",
            "[[ 1  2  3  4  5]\n",
            " [ 6  7  8  9 10]\n",
            " [11 12 13 14 15]\n",
            " [16 17 18 19 20]\n",
            " [21 22 23 24 25]]\n",
            "\n",
            "[[12 13 14 15]\n",
            " [17 18 19 20]\n",
            " [22 23 24 25]]\n",
            "\n",
            "20\n",
            "\n",
            "[ 2  7 12]\n",
            "\n",
            "[[21 22 23 24 25]]\n",
            "\n",
            "[[16 17 18 19 20]\n",
            " [21 22 23 24 25]]\n",
            "\n",
            "325\n",
            "\n",
            "7.211102550927978\n",
            "\n",
            "[55 60 65 70 75]\n"
          ]
        }
      ]
    }
  ]
}